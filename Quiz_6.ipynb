{
  "nbformat": 4,
  "nbformat_minor": 0,
  "metadata": {
    "colab": {
      "name": "Quiz 6.ipynb",
      "provenance": [],
      "collapsed_sections": []
    },
    "kernelspec": {
      "name": "python3",
      "display_name": "Python 3"
    },
    "language_info": {
      "name": "python"
    }
  },
  "cells": [
    {
      "cell_type": "markdown",
      "metadata": {
        "id": "jldxEff-vPZ6"
      },
      "source": [
        "Quiz 6\n",
        "\n",
        "Coding Assignment"
      ]
    },
    {
      "cell_type": "code",
      "metadata": {
        "colab": {
          "base_uri": "https://localhost:8080/"
        },
        "id": "83jA68TzyDQY",
        "outputId": "38d825e7-3bf8-46cf-9f62-63acc7f0959b"
      },
      "source": [
        "from datetime import datetime\n",
        "import random\n",
        "from datetime import timedelta\n",
        "\n",
        "min_year=1901\n",
        "max_year=2021\n",
        "\n",
        "start = datetime(min_year, 1, 1)\n",
        "years = max_year - min_year+1\n",
        "end = timedelta(days=365 * years)\n",
        "\n",
        "random_date = [(start + (end) * random.random()).strftime(\"%b, %dth, %Y\") for i in range(26)]\n",
        "print(str(random_date))\n",
        "print(datetime.now())"
      ],
      "execution_count": 8,
      "outputs": [
        {
          "output_type": "stream",
          "text": [
            "['Jan, 23th, 1977', 'Dec, 08th, 1912', 'Sep, 17th, 1954', 'Mar, 04th, 1990', 'Jan, 01th, 1989', 'May, 05th, 1925', 'Jan, 11th, 1981', 'Jan, 28th, 1969', 'May, 06th, 1927', 'Aug, 23th, 1972', 'Dec, 05th, 1925', 'Jun, 02th, 1962', 'Jan, 25th, 1957', 'Feb, 26th, 1909', 'Nov, 02th, 1959', 'Mar, 21th, 2018', 'Feb, 11th, 1998', 'Jul, 16th, 1933', 'Dec, 08th, 1950', 'May, 04th, 1913', 'Nov, 08th, 2015', 'Feb, 27th, 2008', 'May, 16th, 2020', 'Jul, 09th, 1925', 'Jul, 07th, 1957', 'Jan, 19th, 1995']\n",
            "2021-06-11 11:18:47.803876\n"
          ],
          "name": "stdout"
        }
      ]
    }
  ]
}